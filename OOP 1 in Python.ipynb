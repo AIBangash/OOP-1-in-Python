{
 "cells": [
  {
   "cell_type": "markdown",
   "metadata": {},
   "source": [
    "# OOP\n",
    "* object\n",
    "    * everything in the world which has name that is called object\n",
    "        * Methods (function, procedure, sub routine)\n",
    "            * performe any action\n",
    "                * must be change some attribute\n",
    "                * or return something\n",
    "        * Attributes (properties, fields, characterstics)\n",
    "            * store some values for perticular time\n",
    " \n",
    " # Class\n",
    " * Blue print\n",
    " * Capitalize each word (ClassName)\n",
    " * constructor (Method)\n",
    "     * always call when we create new object\n"
   ]
  },
  {
   "cell_type": "markdown",
   "metadata": {},
   "source": [
    "## Linear programming"
   ]
  },
  {
   "cell_type": "code",
   "execution_count": 2,
   "metadata": {},
   "outputs": [],
   "source": [
    "gulshan_name = \"Gulshan Ali\"\n",
    "gulshan_fname = \"Liaqat Ali\"\n",
    "gulshan_education = \"MCS\"\n",
    "\n",
    "def gulshan_speak():pass\n",
    "def gulshan_eat():pass\n",
    "def gulshan_sleep():pass\n",
    "\n",
    "\n",
    "muhammad_name = \"Muhammad Ali Hussain\"\n",
    "muhammad_fname= \"Gulshan Ali\"\n",
    "Muhammad_education = \"MBBS\"\n",
    "\n",
    "def muhammad_speak():pass\n",
    "def muhammad_eat():pass\n",
    "def muhammad_sleep():pass\n",
    "\n",
    "\n",
    "farhan_name = \"Farhan Haider\"\n",
    "farhan_fname= \"Gulshan Ali\"\n",
    "farhan_education = \"BSCS\"\n",
    "\n",
    "def farhan_speak():pass\n",
    "def farhan_eat():pass\n",
    "def farhan_sleep():pass"
   ]
  },
  {
   "cell_type": "markdown",
   "metadata": {},
   "source": [
    "# OOP\n",
    "* compress code\n",
    "* less computing power/ less storage consume\n",
    "* code management too much simple"
   ]
  },
  {
   "cell_type": "markdown",
   "metadata": {},
   "source": [
    "# Class\n",
    " * Blue print/model/structe/template\n",
    " * Capitalize each word (ClassName) `class Class():pass`\n",
    " * constructor (Method)\n",
    "     * always call when we create new object\n",
    "     * old programming lanugages \n",
    "         * same function name as class\n",
    "     * Python\n",
    "         * `def __init__(self):`\n",
    "         * first argument:\n",
    "             * first argument should be any name\n",
    "                 * always keep this during creating time\n",
    "                 * but always ingore during calling\n",
    "                 * always manage each object with individual memory blocks\n",
    "                 * self\n",
    "                 * this\n",
    "                 * abc\n",
    "                 * xyz\n",
    "         * all attribute should be write in constructor body\n",
    "             * `self.attribute_name` (within a class)\n",
    "             \n",
    " * destructor (method)\n",
    "     * always call when we delete object\n",
    "     \n",
    "\n",
    " * Method\n",
    " * Attribute\n",
    " * class variable"
   ]
  },
  {
   "cell_type": "code",
   "execution_count": 1,
   "metadata": {},
   "outputs": [],
   "source": [
    "class Student(): #class\n",
    "    def __init__(self,sid,sname): #constructor method\n",
    "        #self.attribute_name = constructor_local_variable\n",
    "        self.id = sid\n",
    "        self.name = sname #arrtributes\n",
    "        self.education = None\n",
    "        self.address = None\n",
    "        self.age = None\n",
    "        self.user = sname\n",
    "        self.password = \"234\"\n",
    "\n",
    "    def login(self,user,pws):\n",
    "        if self.user == user and self.password == pws:\n",
    "            return \"Valid User\"\n",
    "        else:\n",
    "            return \"Not a valid user\"\n",
    "       \n",
    "    def display_imformation(self):\n",
    "        cards = f\"\"\"\n",
    "        PIAIC Student Card\n",
    "        Registration No: {self.id}\n",
    "        Name:   {self.name}\n",
    "        Education: {self.education}\n",
    "        \"\"\"\n",
    "        return cards"
   ]
  },
  {
   "cell_type": "code",
   "execution_count": 2,
   "metadata": {},
   "outputs": [],
   "source": [
    "#ClassName(arg1,arg2,....) we ignore self argu at calling time\n",
    "\n",
    "s1 = Student(1,\"Gulshan Ali\") # creating s1 new object\n",
    "s2 = Student(2,\"Farhan\")\n",
    "s3 = Student(3, \"Ijad\")"
   ]
  },
  {
   "cell_type": "code",
   "execution_count": 3,
   "metadata": {},
   "outputs": [
    {
     "name": "stdout",
     "output_type": "stream",
     "text": [
      "1 Gulshan Ali\n",
      "Farhan 2\n",
      "Ijad 2\n"
     ]
    }
   ],
   "source": [
    "print(s1.id, s1.name) # calling attributes values. here we ignore self argu\n",
    "print(s2.name, s2.id)\n",
    "print(s3.name, s2.id)"
   ]
  },
  {
   "cell_type": "code",
   "execution_count": 4,
   "metadata": {},
   "outputs": [
    {
     "data": {
      "text/plain": [
       "'Not a valid user'"
      ]
     },
     "execution_count": 4,
     "metadata": {},
     "output_type": "execute_result"
    }
   ],
   "source": [
    "s1.login(\"234\", \"Gulshan Ali\") #calling object method # objectname.methodname()"
   ]
  },
  {
   "cell_type": "code",
   "execution_count": 5,
   "metadata": {},
   "outputs": [
    {
     "data": {
      "text/plain": [
       "'Valid User'"
      ]
     },
     "execution_count": 5,
     "metadata": {},
     "output_type": "execute_result"
    }
   ],
   "source": [
    "s1.login(\"Gulshan Ali\", \"234\")"
   ]
  },
  {
   "cell_type": "code",
   "execution_count": 6,
   "metadata": {},
   "outputs": [
    {
     "data": {
      "text/plain": [
       "'Not a valid user'"
      ]
     },
     "execution_count": 6,
     "metadata": {},
     "output_type": "execute_result"
    }
   ],
   "source": [
    "s2.login(\"Gulshan Ali\", \"234\") #because s2 is Farhan not Gulshan Ali"
   ]
  },
  {
   "cell_type": "code",
   "execution_count": 7,
   "metadata": {},
   "outputs": [
    {
     "data": {
      "text/plain": [
       "'Valid User'"
      ]
     },
     "execution_count": 7,
     "metadata": {},
     "output_type": "execute_result"
    }
   ],
   "source": [
    "s2.login(\"Farhan\", \"234\")"
   ]
  },
  {
   "cell_type": "code",
   "execution_count": 8,
   "metadata": {},
   "outputs": [
    {
     "data": {
      "text/plain": [
       "'Not a valid user'"
      ]
     },
     "execution_count": 8,
     "metadata": {},
     "output_type": "execute_result"
    }
   ],
   "source": [
    "s1.login(\"Gulshan Ali\", \"123\") #because pw wrong"
   ]
  },
  {
   "cell_type": "code",
   "execution_count": 9,
   "metadata": {},
   "outputs": [
    {
     "name": "stdout",
     "output_type": "stream",
     "text": [
      "\n",
      "        PIAIC Student Card\n",
      "        Registration No: 1\n",
      "        Name:   Gulshan Ali\n",
      "        Education: None\n",
      "        \n"
     ]
    }
   ],
   "source": [
    "print(s1.display_imformation())"
   ]
  },
  {
   "cell_type": "code",
   "execution_count": 10,
   "metadata": {},
   "outputs": [
    {
     "name": "stdout",
     "output_type": "stream",
     "text": [
      "\n",
      "        PIAIC Student Card\n",
      "        Registration No: 2\n",
      "        Name:   Farhan\n",
      "        Education: None\n",
      "        \n"
     ]
    }
   ],
   "source": [
    "print(s2.display_imformation())"
   ]
  },
  {
   "cell_type": "code",
   "execution_count": 11,
   "metadata": {},
   "outputs": [],
   "source": [
    "s1.education = \"MCS\" #updating attribut education of object s1"
   ]
  },
  {
   "cell_type": "code",
   "execution_count": 12,
   "metadata": {},
   "outputs": [
    {
     "name": "stdout",
     "output_type": "stream",
     "text": [
      "\n",
      "        PIAIC Student Card\n",
      "        Registration No: 1\n",
      "        Name:   Gulshan Ali\n",
      "        Education: MCS\n",
      "        \n"
     ]
    }
   ],
   "source": [
    "print(s1.display_imformation())"
   ]
  },
  {
   "cell_type": "code",
   "execution_count": 13,
   "metadata": {},
   "outputs": [
    {
     "data": {
      "text/plain": [
       "['__class__',\n",
       " '__delattr__',\n",
       " '__dict__',\n",
       " '__dir__',\n",
       " '__doc__',\n",
       " '__eq__',\n",
       " '__format__',\n",
       " '__ge__',\n",
       " '__getattribute__',\n",
       " '__gt__',\n",
       " '__hash__',\n",
       " '__init__',\n",
       " '__init_subclass__',\n",
       " '__le__',\n",
       " '__lt__',\n",
       " '__module__',\n",
       " '__ne__',\n",
       " '__new__',\n",
       " '__reduce__',\n",
       " '__reduce_ex__',\n",
       " '__repr__',\n",
       " '__setattr__',\n",
       " '__sizeof__',\n",
       " '__str__',\n",
       " '__subclasshook__',\n",
       " '__weakref__',\n",
       " 'address',\n",
       " 'age',\n",
       " 'display_imformation',\n",
       " 'education',\n",
       " 'id',\n",
       " 'login',\n",
       " 'name',\n",
       " 'password',\n",
       " 'user']"
      ]
     },
     "execution_count": 13,
     "metadata": {},
     "output_type": "execute_result"
    }
   ],
   "source": [
    "dir(s2)"
   ]
  },
  {
   "cell_type": "code",
   "execution_count": 23,
   "metadata": {},
   "outputs": [
    {
     "data": {
      "text/plain": [
       "'Farhan'"
      ]
     },
     "execution_count": 23,
     "metadata": {},
     "output_type": "execute_result"
    }
   ],
   "source": [
    "s1.id\n",
    "s1.password\n",
    "s2.name #only last command will it return"
   ]
  },
  {
   "cell_type": "code",
   "execution_count": 19,
   "metadata": {},
   "outputs": [
    {
     "data": {
      "text/plain": [
       "'234'"
      ]
     },
     "execution_count": 19,
     "metadata": {},
     "output_type": "execute_result"
    }
   ],
   "source": [
    "s1.password"
   ]
  },
  {
   "cell_type": "code",
   "execution_count": 20,
   "metadata": {},
   "outputs": [
    {
     "data": {
      "text/plain": [
       "'Farhan'"
      ]
     },
     "execution_count": 20,
     "metadata": {},
     "output_type": "execute_result"
    }
   ],
   "source": [
    "s2.user"
   ]
  },
  {
   "cell_type": "code",
   "execution_count": 21,
   "metadata": {},
   "outputs": [
    {
     "data": {
      "text/plain": [
       "'Farhan'"
      ]
     },
     "execution_count": 21,
     "metadata": {},
     "output_type": "execute_result"
    }
   ],
   "source": [
    "s2.name"
   ]
  },
  {
   "cell_type": "code",
   "execution_count": 25,
   "metadata": {},
   "outputs": [
    {
     "data": {
      "text/plain": [
       "<bound method Student.login of <__main__.Student object at 0x00000216A3D4EFD0>>"
      ]
     },
     "execution_count": 25,
     "metadata": {},
     "output_type": "execute_result"
    }
   ],
   "source": [
    "s3.login"
   ]
  },
  {
   "cell_type": "code",
   "execution_count": 27,
   "metadata": {},
   "outputs": [
    {
     "ename": "AttributeError",
     "evalue": "'Student' object has no attribute 'format'",
     "output_type": "error",
     "traceback": [
      "\u001b[1;31m---------------------------------------------------------------------------\u001b[0m",
      "\u001b[1;31mAttributeError\u001b[0m                            Traceback (most recent call last)",
      "\u001b[1;32m~\\AppData\\Local\\Temp/ipykernel_5388/329502276.py\u001b[0m in \u001b[0;36m<module>\u001b[1;34m\u001b[0m\n\u001b[1;32m----> 1\u001b[1;33m \u001b[0ms1\u001b[0m\u001b[1;33m.\u001b[0m\u001b[0mformat\u001b[0m \u001b[1;31m#\u001b[0m\u001b[1;33m\u001b[0m\u001b[1;33m\u001b[0m\u001b[0m\n\u001b[0m",
      "\u001b[1;31mAttributeError\u001b[0m: 'Student' object has no attribute 'format'"
     ]
    }
   ],
   "source": [
    "s1.format # format attribute not declared yet"
   ]
  },
  {
   "cell_type": "code",
   "execution_count": 34,
   "metadata": {},
   "outputs": [
    {
     "name": "stdout",
     "output_type": "stream",
     "text": [
      "['address', 'age', 'education', 'id', 'login', 'name', 'password', 'user']\n",
      "['address', 'age', 'education', 'id', 'login', 'name', 'password', 'user']\n",
      "['address', 'age', 'education', 'id', 'login', 'name', 'password', 'user']\n"
     ]
    }
   ],
   "source": [
    "print([i for i in dir(s1) if \"_\" not in i])\n",
    "print([i for i in dir(s2) if \"_\" not in i])\n",
    "print([i for i in dir(s3) if \"_\"not in i])"
   ]
  },
  {
   "cell_type": "code",
   "execution_count": 37,
   "metadata": {},
   "outputs": [],
   "source": [
    "s1.password = 'xyz' #update password of only object s1"
   ]
  },
  {
   "cell_type": "code",
   "execution_count": 38,
   "metadata": {},
   "outputs": [
    {
     "name": "stdout",
     "output_type": "stream",
     "text": [
      "xyz\n"
     ]
    }
   ],
   "source": [
    "print(s1.password)"
   ]
  },
  {
   "cell_type": "code",
   "execution_count": 39,
   "metadata": {},
   "outputs": [
    {
     "data": {
      "text/plain": [
       "'xyz'"
      ]
     },
     "execution_count": 39,
     "metadata": {},
     "output_type": "execute_result"
    }
   ],
   "source": [
    "s1.password"
   ]
  },
  {
   "cell_type": "code",
   "execution_count": 40,
   "metadata": {},
   "outputs": [
    {
     "data": {
      "text/plain": [
       "'234'"
      ]
     },
     "execution_count": 40,
     "metadata": {},
     "output_type": "execute_result"
    }
   ],
   "source": [
    "s2.password #this password is default one "
   ]
  },
  {
   "cell_type": "code",
   "execution_count": 41,
   "metadata": {},
   "outputs": [
    {
     "data": {
      "text/plain": [
       "'234'"
      ]
     },
     "execution_count": 41,
     "metadata": {},
     "output_type": "execute_result"
    }
   ],
   "source": [
    "s3.password"
   ]
  },
  {
   "cell_type": "markdown",
   "metadata": {},
   "source": [
    "# Class Variables\n",
    "\n",
    "    *always created in class body\n",
    "    *calling ClassName.variableName\n",
    "    *always have same value"
   ]
  },
  {
   "cell_type": "code",
   "execution_count": 2,
   "metadata": {},
   "outputs": [],
   "source": [
    "class Student():\n",
    "    \n",
    "    counter = 0 # class variable\n",
    "    subject = \"AI\"\n",
    "    time = \"09:00 am\"\n",
    "    \n",
    "    def __init__(self, sid, sname):\n",
    "        self.id = sid\n",
    "        self.name = sname\n",
    "        self.education = \"MSC\"\n",
    "        self.address = None\n",
    "        self.age = None\n",
    "        self.user = sname\n",
    "        self.password = \"444\"\n",
    "        Student.counter += 1 #calling class variable\n",
    "        \n",
    "    def login(self,user,pws):#method\n",
    "        if self.user == user and self.password == pws:\n",
    "            return \"Valid User\"\n",
    "        else:\n",
    "            return \"not a valid User\"\n",
    "        \n",
    "    def display_information(self):\n",
    "        card = f\"\"\"\n",
    "        PIAIC Student Card\n",
    "        Registration No: {self.id}\n",
    "        Name: {self.name}\n",
    "        Education: {self.education}\n",
    "        \"\"\"\n",
    "        return cards"
   ]
  },
  {
   "cell_type": "code",
   "execution_count": 3,
   "metadata": {},
   "outputs": [
    {
     "name": "stdout",
     "output_type": "stream",
     "text": [
      "1 1 Gulshan Ali AI 09:00 am\n",
      "2 2 Farhan AI 09:00 am\n",
      "3 3 3 Muhammad AI\n"
     ]
    }
   ],
   "source": [
    "s1 = Student(1,\"Gulshan Ali\")\n",
    "print(Student.counter, s1.counter, s1.name, Student.subject, Student.time)\n",
    "s2 = Student(2,\"Farhan\")\n",
    "print(Student.counter, s2.counter, s2.name, Student.subject, Student.time)\n",
    "s3 = Student(3, \"Muhammad\")\n",
    "print(Student.counter, s3.counter, s3.id, s3.name, Student.subject)"
   ]
  },
  {
   "cell_type": "code",
   "execution_count": 4,
   "metadata": {},
   "outputs": [
    {
     "data": {
      "text/plain": [
       "'09:00 am'"
      ]
     },
     "execution_count": 4,
     "metadata": {},
     "output_type": "execute_result"
    }
   ],
   "source": [
    "s1.time"
   ]
  },
  {
   "cell_type": "code",
   "execution_count": 5,
   "metadata": {},
   "outputs": [
    {
     "name": "stdout",
     "output_type": "stream",
     "text": [
      "09:00 am\n"
     ]
    }
   ],
   "source": [
    "print(s1.time)"
   ]
  },
  {
   "cell_type": "code",
   "execution_count": 6,
   "metadata": {},
   "outputs": [
    {
     "name": "stdout",
     "output_type": "stream",
     "text": [
      "MSC\n",
      "09:00 am\n",
      "None\n",
      "3\n",
      "3\n"
     ]
    }
   ],
   "source": [
    "print(s1.education)\n",
    "print(s2.time)\n",
    "print(s3.age)\n",
    "\n",
    "print(Student.counter)\n",
    "print(s1.counter)"
   ]
  },
  {
   "cell_type": "code",
   "execution_count": 7,
   "metadata": {},
   "outputs": [
    {
     "name": "stdout",
     "output_type": "stream",
     "text": [
      "8\n"
     ]
    },
    {
     "data": {
      "text/plain": [
       "['129260', '68522', '178751', '96879', '961681', '177625', '149766', '113830']"
      ]
     },
     "execution_count": 7,
     "metadata": {},
     "output_type": "execute_result"
    }
   ],
   "source": [
    "x = \"\"\"\n",
    "11:31:13 From Dr. Engr. Bhagwan Das To Everyone : PIAIC96879\n",
    "11:32:12 From Abdullah Arif 129260 To Everyone : PIAIC129260\n",
    "11:32:21 From Saeed To Everyone : how to read and edit excel files??\n",
    "11:32:29 From Hifza Ansari To M.Qasim(Teacher)(Privately) : PIAIC177625\n",
    "11:32:38 From Mashal Zahra To Everyone : PIAIC178751\n",
    "11:32:40 From Hifza Ansari To Everyone : PIAIC177625\n",
    "11:32:45 From Muhammad Sheraz-PIAIC68522 To Everyone : PIAIC68522\n",
    "11:32:54 From Ahmad Mudassar PIAIC113830 To Everyone : when is the quiz\n",
    "11:33:11 From Saeed To Everyone : 29/30 sep\n",
    "11:33:24 From Ahmad Mudassar PIAIC113830 To Everyone : ok thankyou 1497669616816\n",
    "\"\"\"\n",
    "import re\n",
    "l = list(set(re.findall(r\"[0-9]{5,6}\", x)))\n",
    "print(len(l))\n",
    "l"
   ]
  }
 ],
 "metadata": {
  "kernelspec": {
   "display_name": "Python 3 (ipykernel)",
   "language": "python",
   "name": "python3"
  },
  "language_info": {
   "codemirror_mode": {
    "name": "ipython",
    "version": 3
   },
   "file_extension": ".py",
   "mimetype": "text/x-python",
   "name": "python",
   "nbconvert_exporter": "python",
   "pygments_lexer": "ipython3",
   "version": "3.9.7"
  }
 },
 "nbformat": 4,
 "nbformat_minor": 4
}
